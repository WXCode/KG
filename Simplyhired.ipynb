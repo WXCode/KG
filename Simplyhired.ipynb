{
 "cells": [
  {
   "cell_type": "markdown",
   "metadata": {},
   "source": [
    "# Simplyhired"
   ]
  },
  {
   "cell_type": "code",
   "execution_count": 1,
   "metadata": {},
   "outputs": [],
   "source": [
    "import requests\n",
    "import pandas as pd\n",
    "from bs4 import BeautifulSoup"
   ]
  },
  {
   "cell_type": "markdown",
   "metadata": {},
   "source": [
    "# using the way of BeautifulSoup "
   ]
  },
  {
   "cell_type": "code",
   "execution_count": 2,
   "metadata": {},
   "outputs": [],
   "source": [
    "pd.set_option('max_colwidth',500)    # to remove column limit (Otherwise, we'll lose some info)\n",
    "df = pd.DataFrame()   # create a new data frame\n",
    "\n",
    "for page in range(1,92): # page from 2 to 102\n",
    "    web = \"https://www.simplyhired.com/search?q=data+analytics&pn=\"+str(page) \n",
    "    PAGE = requests.get(web)\n",
    "    target = BeautifulSoup(PAGE.content, 'html.parser')\n",
    "    results = target.find(id='job-list')\n",
    "    BA_jobs = results.find_all('h2', class_='jobposting-title')\n",
    "    for BA_job in BA_jobs:\n",
    "        job_link = BA_job.find('a')['href']\n",
    "        job_url = \"https://www.simplyhired.com\" + job_link\n",
    "        page = requests.get(job_url)\n",
    "        target = BeautifulSoup(page.content, 'html.parser')\n",
    "        job_title_tag = target.find('h2',{'class':'viewjob-jobTitle h2'})\n",
    "        job_title = job_title_tag.text.strip() if job_title_tag else \"NONE\"\n",
    "        jd_tag = target.find('p',{'class':\"p\"})\n",
    "        jd = jd_tag.text.strip() if jd_tag else \"NONE\"\n",
    "\n",
    "        df = df.append({'job_title': job_title,'job_information': jd}, ignore_index=True)\n",
    "\n",
    "job_data = df.to_csv(\"SimplyHired_data_analytics.csv\")\n",
    "        "
   ]
  },
  {
   "cell_type": "code",
   "execution_count": null,
   "metadata": {},
   "outputs": [],
   "source": []
  }
 ],
 "metadata": {
  "kernelspec": {
   "display_name": "Python 3",
   "language": "python",
   "name": "python3"
  },
  "language_info": {
   "codemirror_mode": {
    "name": "ipython",
    "version": 3
   },
   "file_extension": ".py",
   "mimetype": "text/x-python",
   "name": "python",
   "nbconvert_exporter": "python",
   "pygments_lexer": "ipython3",
   "version": "3.7.3"
  }
 },
 "nbformat": 4,
 "nbformat_minor": 2
}
