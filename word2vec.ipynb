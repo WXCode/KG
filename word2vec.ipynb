{
 "cells": [
  {
   "cell_type": "code",
   "execution_count": 1,
   "metadata": {},
   "outputs": [],
   "source": [
    "import pandas as pd\n",
    "import re, string, unicodedata\n",
    "import nltk\n",
    "from gensim.models import Word2Vec\n",
    "from nltk.corpus import stopwords\n",
    "from nltk.stem import WordNetLemmatizer\n",
    "import inflect\n",
    "import contractions"
   ]
  },
  {
   "cell_type": "code",
   "execution_count": 2,
   "metadata": {},
   "outputs": [],
   "source": [
    "data1 = pd.read_csv('US.csv')"
   ]
  },
  {
   "cell_type": "code",
   "execution_count": 3,
   "metadata": {},
   "outputs": [
    {
     "data": {
      "text/html": [
       "<div>\n",
       "<style scoped>\n",
       "    .dataframe tbody tr th:only-of-type {\n",
       "        vertical-align: middle;\n",
       "    }\n",
       "\n",
       "    .dataframe tbody tr th {\n",
       "        vertical-align: top;\n",
       "    }\n",
       "\n",
       "    .dataframe thead th {\n",
       "        text-align: right;\n",
       "    }\n",
       "</style>\n",
       "<table border=\"1\" class=\"dataframe\">\n",
       "  <thead>\n",
       "    <tr style=\"text-align: right;\">\n",
       "      <th></th>\n",
       "      <th>job_information</th>\n",
       "      <th>job_location</th>\n",
       "      <th>job_title</th>\n",
       "    </tr>\n",
       "  </thead>\n",
       "  <tbody>\n",
       "    <tr>\n",
       "      <th>0</th>\n",
       "      <td>Formulate mathematical modeling frameworks for...</td>\n",
       "      <td>NewYork</td>\n",
       "      <td>BUSINESS ANALYTICS STRATEGIST (NYC)</td>\n",
       "    </tr>\n",
       "    <tr>\n",
       "      <th>1</th>\n",
       "      <td>OUR COMPANY - TENVIZ:  4 year old startup offe...</td>\n",
       "      <td>NewYork</td>\n",
       "      <td>Sales &amp; Business Development Manager - Predict...</td>\n",
       "    </tr>\n",
       "    <tr>\n",
       "      <th>2</th>\n",
       "      <td>WHO WE ARE:\\nIncorta delivers the industry's f...</td>\n",
       "      <td>NewYork</td>\n",
       "      <td>Enterprise Field Sales</td>\n",
       "    </tr>\n",
       "    <tr>\n",
       "      <th>3</th>\n",
       "      <td>Company Overview:\\nAt Memorial Sloan Kettering...</td>\n",
       "      <td>NewYork</td>\n",
       "      <td>Deputy Chief Architect</td>\n",
       "    </tr>\n",
       "    <tr>\n",
       "      <th>4</th>\n",
       "      <td>About NJOY:\\nNJOY is one of the largest indepe...</td>\n",
       "      <td>NewYork</td>\n",
       "      <td>Retail Analytics Manager</td>\n",
       "    </tr>\n",
       "  </tbody>\n",
       "</table>\n",
       "</div>"
      ],
      "text/plain": [
       "                                     job_information job_location  \\\n",
       "0  Formulate mathematical modeling frameworks for...      NewYork   \n",
       "1  OUR COMPANY - TENVIZ:  4 year old startup offe...      NewYork   \n",
       "2  WHO WE ARE:\\nIncorta delivers the industry's f...      NewYork   \n",
       "3  Company Overview:\\nAt Memorial Sloan Kettering...      NewYork   \n",
       "4  About NJOY:\\nNJOY is one of the largest indepe...      NewYork   \n",
       "\n",
       "                                           job_title  \n",
       "0                BUSINESS ANALYTICS STRATEGIST (NYC)  \n",
       "1  Sales & Business Development Manager - Predict...  \n",
       "2                             Enterprise Field Sales  \n",
       "3                             Deputy Chief Architect  \n",
       "4                           Retail Analytics Manager  "
      ]
     },
     "execution_count": 3,
     "metadata": {},
     "output_type": "execute_result"
    }
   ],
   "source": [
    "data1.head()"
   ]
  },
  {
   "cell_type": "code",
   "execution_count": 4,
   "metadata": {},
   "outputs": [
    {
     "data": {
      "text/plain": [
       "36390"
      ]
     },
     "execution_count": 4,
     "metadata": {},
     "output_type": "execute_result"
    }
   ],
   "source": [
    "len(data1)"
   ]
  },
  {
   "cell_type": "code",
   "execution_count": 5,
   "metadata": {},
   "outputs": [],
   "source": [
    "job_location1 = \"\"\n",
    "for p_location1 in data1['job_location']:\n",
    "    if p_location1 != 'NONE':\n",
    "        job_location1 += p_location1 + ' '"
   ]
  },
  {
   "cell_type": "code",
   "execution_count": 6,
   "metadata": {},
   "outputs": [],
   "source": [
    "job_title1 = pd.DataFrame(data1['job_title'])\n",
    "JT1 = job_title1.applymap((lambda x: \"_\".join(x.split()) if type(x) is str else x)) \n",
    "Job_Title1 = \"\"\n",
    "a = ' '\n",
    "for p_title1 in JT1['job_title']:\n",
    "    if p_title1 != 'NONE':\n",
    "        Job_Title1 += p_title1 + a"
   ]
  },
  {
   "cell_type": "code",
   "execution_count": 7,
   "metadata": {},
   "outputs": [],
   "source": [
    "jt = Job_Title1.lower()\n",
    "jt = re.sub(\"-\", \"\", jt) # delete the content in parentheses\n",
    "jt = re.sub(u\"\\\\(.*?\\\\)\", \"\", jt) # delete the content in parentheses\n",
    "jt = re.sub('/', '_', jt)\n",
    "jt = re.sub('&', '', jt )\n",
    "jt = re.sub('\\+', '', jt)\n",
    "jt = re.sub('\\$', '', jt)\n",
    "jt = re.sub('\\#', '', jt)\n",
    "jt = re.sub('/*', '', jt)\n",
    "jt = re.sub('®', '', jt)\n",
    "jt = re.sub('/*', '', jt)\n",
    "jt = re.sub('•', '', jt)\n",
    "jt = re.sub('%', '', jt)\n",
    "jt = re.sub('@', '', jt)\n",
    "jt = re.sub(',', '', jt)"
   ]
  },
  {
   "cell_type": "code",
   "execution_count": 8,
   "metadata": {},
   "outputs": [],
   "source": [
    "job_information1 = \"\"\n",
    "for p_information1 in data1['job_information']:\n",
    "    if p_information1 != 'NONE':\n",
    "        job_information1 += p_information1 + ' '"
   ]
  },
  {
   "cell_type": "code",
   "execution_count": 9,
   "metadata": {},
   "outputs": [],
   "source": [
    "def replace_contractions(text):\n",
    "    \"\"\"Replace contractions in string of text\"\"\"\n",
    "    return contractions.fix(text)\n",
    "\n",
    "job_information = replace_contractions(job_information1)"
   ]
  },
  {
   "cell_type": "code",
   "execution_count": 10,
   "metadata": {},
   "outputs": [],
   "source": [
    "jd = job_information.lower()\n",
    "jd = re.sub(\"-\", \"\", jd) # delete the content in parentheses\n",
    "jd = re.sub(u\"\\\\(.*?\\\\)\", \" \", jd) # delete the content in parentheses\n",
    "jd = re.sub('\\n', ' ', jd)  # delete \\n\n",
    "jd = re.sub(r'[a-zA-z]+://[^\\s]*', '', jd) # delete website address \n",
    "jd = re.sub('[0-9]', '', jd)\n",
    "jd = re.sub('\\+', '', jd)\n",
    "jd = re.sub('&', '', jd)\n",
    "jd = re.sub('/', '', jd)\n",
    "jd = re.sub('\\$', '', jd)\n",
    "jd = re.sub('\\#', '', jd)\n",
    "jd = re.sub('/*', '', jd)\n",
    "jd = re.sub('®', '', jd)\n",
    "jd = re.sub('/*', '', jd)\n",
    "jd = re.sub('•', '', jd)\n",
    "jd = re.sub('%', '', jd)\n",
    "jd = re.sub('@', '', jd)\n",
    "jd = re.sub('!', '', jd)\n",
    "jd = re.sub('\\?', '', jd)\n",
    "jd = re.sub(':', '', jd)\n",
    "jd = re.sub('·', '', jd)\n",
    "jd = re.sub(';', '', jd)\n"
   ]
  },
  {
   "cell_type": "code",
   "execution_count": 11,
   "metadata": {},
   "outputs": [],
   "source": [
    "total1 = jt + ' '+ jd + ' ' + job_location1"
   ]
  },
  {
   "cell_type": "code",
   "execution_count": 12,
   "metadata": {},
   "outputs": [],
   "source": [
    "# Preparing the dataset\n",
    "all_sentences = nltk.sent_tokenize(total1)\n",
    "all_words = [nltk.word_tokenize(sent) for sent in all_sentences]"
   ]
  },
  {
   "cell_type": "code",
   "execution_count": 13,
   "metadata": {},
   "outputs": [],
   "source": [
    "for i in range(len(all_words)):\n",
    "    all_words[i] = [w for w in all_words[i] if w not in stopwords.words('english')]"
   ]
  },
  {
   "cell_type": "code",
   "execution_count": 38,
   "metadata": {},
   "outputs": [
    {
     "name": "stdout",
     "output_type": "stream",
     "text": [
      "97526\n"
     ]
    }
   ],
   "source": [
    "word2vec = Word2Vec(all_words, window=700,min_count=2)\n",
    "vocabulary = word2vec.wv.vocab\n",
    "print(len(vocabulary))"
   ]
  },
  {
   "cell_type": "code",
   "execution_count": 39,
   "metadata": {},
   "outputs": [],
   "source": [
    "from gensim.models import Word2Vec, KeyedVectors   \n",
    "word2vec.wv.save_word2vec_format('word2vec_us_700.bin', binary=True)"
   ]
  },
  {
   "cell_type": "code",
   "execution_count": 19,
   "metadata": {},
   "outputs": [
    {
     "data": {
      "text/plain": [
       "[('languages', 0.7508950233459473),\n",
       " ('numpy', 0.7347226738929749),\n",
       " ('tensorflow', 0.7244687676429749),\n",
       " ('pandas', 0.7210012674331665),\n",
       " ('scala', 0.6975865960121155),\n",
       " ('jupyter', 0.6765490770339966),\n",
       " ('scikitlearn', 0.6763811707496643),\n",
       " ('sql', 0.6652498245239258),\n",
       " ('pytorch', 0.6477754712104797),\n",
       " ('airflow', 0.6471871733665466)]"
      ]
     },
     "execution_count": 19,
     "metadata": {},
     "output_type": "execute_result"
    }
   ],
   "source": [
    "# word2vec.wv.most_similar(['python'])"
   ]
  },
  {
   "cell_type": "code",
   "execution_count": null,
   "metadata": {},
   "outputs": [],
   "source": [
    "\n",
    "        \n",
    "\n",
    "        \n"
   ]
  }
 ],
 "metadata": {
  "kernelspec": {
   "display_name": "Python 3",
   "language": "python",
   "name": "python3"
  },
  "language_info": {
   "codemirror_mode": {
    "name": "ipython",
    "version": 3
   },
   "file_extension": ".py",
   "mimetype": "text/x-python",
   "name": "python",
   "nbconvert_exporter": "python",
   "pygments_lexer": "ipython3",
   "version": "3.7.4"
  }
 },
 "nbformat": 4,
 "nbformat_minor": 2
}
